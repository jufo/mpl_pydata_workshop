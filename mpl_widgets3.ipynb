{
 "metadata": {
  "name": "mpl_widgets3"
 },
 "nbformat": 3,
 "worksheets": [
  {
   "cells": [
    {
     "cell_type": "heading",
     "level": 2,
     "source": [
      "Default MPL keybindings"
     ]
    },
    {
     "cell_type": "code",
     "collapsed": false,
     "input": [
      "# print the default keymapping",
      "for k, v in rcParams.items():",
      "    if not k.startswith('keymap'):",
      "        continue",
      "    print '%s : %s'%(k, v)"
     ],
     "language": "python",
     "outputs": [
      {
       "output_type": "stream",
       "stream": "stdout",
       "text": [
        "",
        "keymap.fullscreen : f"
       ]
      },
      {
       "output_type": "stream",
       "stream": "stdout",
       "text": [
        "",
        "keymap.pan : p",
        "keymap.zoom : o",
        "keymap.all_axes : a",
        "keymap.home : ['h', 'r', 'home']",
        "keymap.xscale : ['k', 'L']",
        "keymap.save : s",
        "keymap.forward : ['right', 'v']",
        "keymap.grid : g",
        "keymap.yscale : l",
        "keymap.back : ['left', 'c', 'backspace']"
       ]
      }
     ],
     "prompt_number": 15
    },
    {
     "cell_type": "heading",
     "level": 2,
     "source": [
      "matplotlib events: Connect to key presses"
     ]
    },
    {
     "cell_type": "code",
     "collapsed": false,
     "input": [
      "def press(event):",
      "    print('press', event.key)",
      "    if event.key=='x':",
      "        visible = line2.get_visible()",
      "        line2.set_visible(not visible)",
      "        fig.canvas.draw()",
      "",
      "fig, ax = plt.subplots(1)",
      "fig.canvas.mpl_connect('key_press_event', press)",
      "",
      "line1, = ax.plot(np.random.rand(12), np.random.rand(12), 'go')",
      "line2, = ax.plot(np.random.rand(12), np.random.rand(12), 'rs-')",
      "",
      "ax.set_title('Press x to toggle line')",
      "ax.set_xlabel('easy come, easy go')"
     ],
     "language": "python",
     "outputs": [
      {
       "output_type": "pyout",
       "prompt_number": 8,
       "text": [
        "<matplotlib.text.Text at 0x56a3290>"
       ]
      },
      {
       "output_type": "stream",
       "stream": "stdout",
       "text": [
        "('press', 'x')",
        "('press', 'x')"
       ]
      },
      {
       "output_type": "stream",
       "stream": "stdout",
       "text": [
        "",
        "('press', 'x')"
       ]
      },
      {
       "output_type": "stream",
       "stream": "stdout",
       "text": [
        "",
        "('press', 'x')"
       ]
      },
      {
       "output_type": "stream",
       "stream": "stdout",
       "text": [
        "",
        "('press', 'x')"
       ]
      }
     ],
     "prompt_number": 8
    },
    {
     "cell_type": "heading",
     "level": 1,
     "source": [
      "Using matplotlib widgets"
     ]
    },
    {
     "cell_type": "heading",
     "level": 2,
     "source": [
      "Enabling a cursor"
     ]
    },
    {
     "cell_type": "code",
     "collapsed": true,
     "input": [
      "import matplotlib.widgets as widgets"
     ],
     "language": "python",
     "outputs": [],
     "prompt_number": 3
    },
    {
     "cell_type": "code",
     "collapsed": false,
     "input": [
      "fig, ax = plt.subplots(1)",
      "",
      "x, y = 4*(np.random.rand(2, 100)-.5)",
      "ax.plot(x, y, 'o')",
      "",
      "# useblit=True not supported on all backends",
      "cursor = widgets.Cursor(ax, color='red', linewidth=2, useblit=True )"
     ],
     "language": "python",
     "outputs": [],
     "prompt_number": 3
    },
    {
     "cell_type": "heading",
     "level": 2,
     "source": [
      "Enabling a multicusor"
     ]
    },
    {
     "cell_type": "code",
     "collapsed": false,
     "input": [
      "t = np.arange(0.0, 2.0, 0.01)",
      "",
      "fig, axes = plt.subplots(2, sharex=True)",
      "",
      "axes[0].plot(t, np.sin(2*np.pi*t))",
      "axes[1].plot(t, np.sin(4*np.pi*t))",
      "",
      "multi = widgets.MultiCursor(fig.canvas, axes, color='green', lw=2)"
     ],
     "language": "python",
     "outputs": [],
     "prompt_number": 6
    },
    {
     "cell_type": "code",
     "collapsed": true,
     "input": [],
     "language": "python",
     "outputs": []
    },
    {
     "cell_type": "heading",
     "level": 2,
     "source": [
      "Use matplotlib widgets to inspect pandas dataframes"
     ]
    },
    {
     "cell_type": "markdown",
     "source": [
      "We will write a simple widget for plotting some data from a pandas dataframe.  The data will be imported from a CSV file, and will be heterogeneous in type (dates, floats, ints).  We want want plot x vs y for arbitrary fields in the CSV file / pandas dataframe.  ",
      "",
      "More importantly, we want to be able to interact with our data, to select certain regions of interest in the X-Y plot and then see the rest of the non-plotted data that corresponds to that region.  Eg, if you are plotting some data and notice some outliers, you might want to select that region to see more metadata about what is going on there, what dates the outliers occurred on, what other values were present, etc.."
     ]
    },
    {
     "cell_type": "heading",
     "level": 3,
     "source": [
      "Pandas widget: Load some sample data"
     ]
    },
    {
     "cell_type": "code",
     "collapsed": false,
     "input": [
      "import pandas",
      "",
      "# load some Yahoo Finance CSV data from CROX, parsing the datestrings",
      "# to python date objects",
      "import matplotlib.cbook as cbook",
      "converters = {'Date' : cbook.todate('%Y-%m-%d') }",
      "df = pandas.read_csv('data/CROX.csv', converters=converters)",
      "df = df.sort('Date')",
      "df['daily_return'] = df['Adj Close']/df['Adj Close'].shift(1) - 1",
      "df = df[-500:] # get the two years or so",
      "",
      "print df[-5:].to_string()"
     ],
     "language": "python",
     "outputs": [
      {
       "output_type": "stream",
       "stream": "stdout",
       "text": [
        "  Date        Open   High   Low    Close  Volume   Adj Close  daily_return",
        "4 2012-02-23  20.30  20.70  20.21  20.42  3874100  20.42      0.011392    ",
        "3 2012-02-24  18.61  19.41  18.30  19.41  7480500  19.41     -0.049461    ",
        "2 2012-02-27  19.20  20.00  19.20  19.43  3005100  19.43      0.001030    ",
        "1 2012-02-28  19.47  19.77  19.30  19.70  1913500  19.70      0.013896    ",
        "0 2012-02-29  19.70  19.99  19.57  19.64  1796800  19.64     -0.003046    "
       ]
      }
     ],
     "prompt_number": 1
    },
    {
     "cell_type": "heading",
     "level": 3,
     "source": [
      "Pandas widget: Define an mpl SpanSelector widget to select the xmin/xmax ranges"
     ]
    },
    {
     "cell_type": "code",
     "collapsed": false,
     "input": [
      "import sys",
      "",
      "xfield, yfield = 'Volume', 'daily_return'",
      "",
      "# create a new figure and replot",
      "xfield, yfield = 'Volume', 'daily_return'",
      "fig, ax = plt.subplots(1)",
      "ax.grid()",
      "line, = ax.plot(df[xfield], df[yfield], 'o')",
      "",
      "def on_select(xmin, xmax):",
      "    \"\"\"",
      "    callback when the span selector selects a region between xmin",
      "    and xmax",
      "    \"\"\"",
      "",
      "    print('SELECT: xmin=%s, xmax=%s'%(xmin, xmax))",
      "    x = df[xfield]",
      "    # find the region of the dataframe in the selection",
      "    mask = (x>=xmin) & (x<=xmax)",
      "    print(df[mask].to_string())",
      "    sys.stdout.flush()  ",
      "",
      "",
      "import matplotlib.widgets as widgets",
      "span = widgets.SpanSelector(",
      "    ax, on_select, 'horizontal',useblit=True,",
      "    rectprops=dict(alpha=0.5, facecolor='red') );"
     ],
     "language": "python",
     "outputs": [],
     "prompt_number": 5
    },
    {
     "cell_type": "heading",
     "level": 3,
     "source": [
      "Pandas widget: Using a rectangle selector"
     ]
    },
    {
     "cell_type": "code",
     "collapsed": false,
     "input": [
      "def on_rectangle_select(event_press, event_release):",
      "    'args the press and release events'",
      "    x1, y1 = event_press.xdata, event_press.ydata",
      "    x2, y2 = event_release.xdata, event_release.ydata",
      "    print \"RECT: (%3.2f, %3.2f) --> (%3.2f, %3.2f)\" % (x1, y1, x2, y2)",
      "    ",
      "    if x1>x2: ",
      "        x1, x2 = x2, x1",
      "    ",
      "    if y1>y2:",
      "        y1, y2 = y2, y1",
      "        ",
      "    x = df[xfield]",
      "    y = df[yfield]",
      "    # find the region of the dataframe in the selection",
      "    mask = (x>=x1) & (x<=x2) & (y>=y1) & (y<=y2) ",
      "    print(df[mask].to_string())",
      "    sys.stdout.flush()  ",
      "  ",
      "# create a new figure and replot",
      "xfield, yfield = 'Volume', 'daily_return'",
      "fig, ax = plt.subplots(1)",
      "ax.grid()",
      "line, = ax.plot(df[xfield], df[yfield], 'o')",
      "",
      "rect_select = widgets.RectangleSelector(",
      "    ax, on_rectangle_select, drawtype='box', useblit=True,",
      "    button=[1,], # use left button",
      "    minspanx=5, minspany=5, spancoords='pixels',  # ignore rects that are too small",
      "    );"
     ],
     "language": "python",
     "outputs": [],
     "prompt_number": 4
    },
    {
     "cell_type": "code",
     "collapsed": true,
     "input": [],
     "language": "python",
     "outputs": []
    }
   ]
  }
 ]
}