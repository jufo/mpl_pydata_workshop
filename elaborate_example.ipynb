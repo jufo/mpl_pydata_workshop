{
 "metadata": {
  "name": "elaborate_example"
 }, 
 "nbformat": 2, 
 "worksheets": [
  {
   "cells": [
    {
     "cell_type": "markdown", 
     "source": [
      "# Elaborate Matplotlib Plots: ", 
      "An [XKCD](http://xkcd.com/231) Re-enactment by [Paul Ivanov](http://pirsquared.org)", 
      "", 
      "![cat proximity](http://imgs.xkcd.com/comics/cat_proximity.png)"
     ]
    }, 
    {
     "cell_type": "code", 
     "collapsed": false, 
     "input": [
      "%pylab inline", 
      "# xkcd.com/231"
     ], 
     "language": "python", 
     "outputs": [], 
     "prompt_number": 1
    }, 
    {
     "cell_type": "code", 
     "collapsed": false, 
     "input": [
      "x = np.linspace(0, np.pi/4,100)", 
      "y = np.exp(4*x)**x", 
      "intel = -y + y.max()", 
      "inan = y", 
      "plt.plot(x,intel)", 
      "plt.plot(x,inan)"
     ], 
     "language": "python", 
     "outputs": [], 
     "prompt_number": 2
    }, 
    {
     "cell_type": "code", 
     "collapsed": false, 
     "input": [
      "# Will Smith's movie that nobody saw...", 
      "plt.plot(x,intel, label=\"INTELLIGENCE\")", 
      "plt.plot(x,inan, label=\"INANITY OF STATEMENTS\")", 
      "", 
      "plt.legend()"
     ], 
     "language": "python", 
     "outputs": [], 
     "prompt_number": 3
    }, 
    {
     "cell_type": "code", 
     "collapsed": false, 
     "input": [
      "# legend? detour", 
      "plt.plot(x,intel, label=\"INTELLIGENCE\")", 
      "plt.plot(x,inan, label=\"INANITY OF STATEMENTS\")", 
      "", 
      "plt.legend(loc='best')"
     ], 
     "language": "python", 
     "outputs": [], 
     "prompt_number": 4
    }, 
    {
     "cell_type": "code", 
     "collapsed": false, 
     "input": [
      "# Label our abcissa - stay tuned for ordinates via twinx()", 
      "plt.plot(x,intel, label=\"INTELLIGENCE\")", 
      "plt.plot(x,inan, label=\"INANITY OF STATEMENTS\")", 
      "plt.legend(loc='best')", 
      "", 
      "plt.xlabel(\"HUMAN PROXIMITY TO CAT\")"
     ], 
     "language": "python", 
     "outputs": [], 
     "prompt_number": 5
    }, 
    {
     "cell_type": "code", 
     "collapsed": false, 
     "input": [
      "# everything's relative (x and y ticks)", 
      "plt.plot(x,intel, label=\"INTELLIGENCE\")", 
      "plt.plot(x,inan, label=\"INANITY OF STATEMENTS\")", 
      "plt.legend(loc='best')", 
      "plt.xlabel(\"HUMAN PROXIMITY TO CAT\")", 
      "", 
      "plt.yticks([])", 
      "plt.xticks([0,.8],['FAR','NEAR'])"
     ], 
     "language": "python", 
     "outputs": [], 
     "prompt_number": 6
    }, 
    {
     "cell_type": "code", 
     "collapsed": false, 
     "input": [
      "# liberate axes! (no more 'little boxes')", 
      "plt.plot(x,intel, label=\"INTELLIGENCE\")", 
      "plt.plot(x,inan, label=\"INANITY OF STATEMENTS\")", 
      "l = plt.legend(loc='best')", 
      "plt.xlabel(\"HUMAN PROXIMITY TO CAT\")", 
      "plt.yticks([])", 
      "plt.xticks([0,.8],['FAR','NEAR'])", 
      "ax = plt.gca()", 
      "", 
      "ax.spines['top'].set_visible(False)", 
      "ax.spines['right'].set_visible(False)", 
      "l.draw_frame(False)"
     ], 
     "language": "python", 
     "outputs": [], 
     "prompt_number": 7
    }, 
    {
     "cell_type": "code", 
     "collapsed": false, 
     "input": [
      "# get rid of that nervous tick, up top", 
      "plt.plot(x,intel, label=\"INTELLIGENCE\")", 
      "plt.plot(x,inan, label=\"INANITY OF STATEMENTS\")", 
      "l = plt.legend(loc='best')", 
      "plt.xlabel(\"HUMAN PROXIMITY TO CAT\")", 
      "plt.yticks([])", 
      "plt.xticks([0,.8],['FAR','NEAR'])", 
      "ax = plt.gca()", 
      "ax.spines['top'].set_visible(False)", 
      "ax.spines['right'].set_visible(False)", 
      "l.draw_frame(False)", 
      "", 
      "ax.xaxis.tick_bottom()"
     ], 
     "language": "python", 
     "outputs": [], 
     "prompt_number": 8
    }, 
    {
     "cell_type": "code", 
     "collapsed": false, 
     "input": [
      "# no more legend", 
      "plt.plot(x,intel, label=\"INTELLIGENCE\")", 
      "plt.plot(x,inan, label=\"INANITY OF STATEMENTS\")", 
      "plt.xlabel(\"HUMAN PROXIMITY TO CAT\")", 
      "plt.yticks([])", 
      "plt.xticks([0,.8],['FAR','NEAR'])", 
      "ax = plt.gca()", 
      "ax.spines['top'].set_visible(False)", 
      "ax.spines['right'].set_visible(False)", 
      "ax.xaxis.tick_bottom()", 
      "", 
      "# point out ax.transAxes vs ax.transData ", 
      "# this is a good place to show how to use a ", 
      "# **kw dict (time permitting)", 
      "noarrow_kwargs=dict(textcoords='offset points',", 
      "        arrowprops=dict(width=1.0, headwidth=1.0, shrink=0))", 
      "plt.annotate(\"\\nINTELLIGENCE\", (x[40],intel[40]), (-10,-40), ", 
      "    ha='center', **noarrow_kwargs)", 
      "", 
      "plt.annotate(\"\\nINANITY OF\\nSTATEMENTS\", (x[60],inan[60]), (10,-45),", 
      "    **noarrow_kwargs)"
     ], 
     "language": "python", 
     "outputs": [], 
     "prompt_number": 9
    }, 
    {
     "cell_type": "code", 
     "collapsed": false, 
     "input": [
      "plt.annotate(\"YOU'RE A KITTY!\", xy=(0, -1),  xycoords='data',", 
      "    xytext=(-30, 20), textcoords='offset points',", 
      "    size=10, va='center',", 
      "    bbox=dict(boxstyle=\"round\", fc=(1.0, 1.0, 1.0), ec=(0, 0, 0)),", 
      "    arrowprops=dict(arrowstyle=\"wedge,tail_width=1.\",", 
      "        fc=(1.0, 1.0, 1.0), ec=(0, 0, 0),", 
      "        patchA=None, patchB=None,", 
      "        relpos=(0.5, 0.4), connectionstyle=\"arc3,rad=-0.0\"),", 
      "        )", 
      "plt.xlim(-2,2);", 
      "plt.ylim(-2,2);", 
      "kitty_kwargs = dict( xy=(30, 10),  xycoords='data',", 
      "    xytext=(-30, 20), textcoords='offset points',", 
      "    size=10, va='center',", 
      "    bbox=dict(boxstyle=\"round\", fc=(1.0, 1.0, 1.0), ec=(0, 0, 0)),", 
      "    arrowprops=dict(arrowstyle=\"wedge,tail_width=1.\",", 
      "        fc=(1.0, 1.0, 1.0), ec=(0, 0, 0),", 
      "        patchA=None, patchB=None,", 
      "        relpos=(0.5, 0.4), connectionstyle=\"arc3,rad=-0.0\"),", 
      "        zorder=10", 
      "    )"
     ], 
     "language": "python", 
     "outputs": [], 
     "prompt_number": 10
    }, 
    {
     "cell_type": "code", 
     "collapsed": true, 
     "input": [
      "#!wget http://imgs.xkcd.com/comics/cat_proximity.png", 
      "# The above command will not work on OS X and Windows, ", 
      "# I'm calling out to an external program to download", 
      "# the image. You should have it in the repo.  "
     ], 
     "language": "python", 
     "outputs": [], 
     "prompt_number": 11
    }, 
    {
     "cell_type": "code", 
     "collapsed": true, 
     "input": [
      "im = plt.imread('cat_proximity.png')"
     ], 
     "language": "python", 
     "outputs": [], 
     "prompt_number": 12
    }, 
    {
     "cell_type": "code", 
     "collapsed": false, 
     "input": [
      "plt.imshow(im[0:40,0:40])"
     ], 
     "language": "python", 
     "outputs": [], 
     "prompt_number": 13
    }, 
    {
     "cell_type": "code", 
     "collapsed": false, 
     "input": [
      "# By default, we get the sadly ubiquitous \"Jet\" colormap,", 
      "# Let's change it to someting more suitable for us...", 
      "plt.gray()", 
      "plt.imshow(im[0:100,0:100])"
     ], 
     "language": "python", 
     "outputs": [], 
     "prompt_number": 14
    }, 
    {
     "cell_type": "code", 
     "collapsed": false, 
     "input": [
      "ax_im = plt.imshow(im[-100:-20,40:100])"
     ], 
     "language": "python", 
     "outputs": [], 
     "prompt_number": 15
    }, 
    {
     "cell_type": "code", 
     "collapsed": false, 
     "input": [
      "fig = plt.gcf()", 
      "fig.subplotpars.bottom=.35 # can set this for all figures via rcParams", 
      "ax= plt.subplot(1,1,1) #matlab-style initialization", 
      "ax2 = fig.add_axes([0.0, 0.0, .3, 0.3])", 
      "", 
      "ax_im = plt.imshow(im[-100:-20,40:100])", 
      "ax3 = fig.add_axes([0.3, .0, .3, 0.3])", 
      "", 
      "ax_im = plt.imshow(im[-100:-20:,180:240])", 
      "", 
      "ax4 = fig.add_axes([0.6, .0, .45, 0.3])", 
      "ax_im = plt.imshow(im[-100:-20:,320:420])", 
      "", 
      "plt.annotate(\"YOU'RE A KITTY!\", **kitty_kwargs)"
     ], 
     "language": "python", 
     "outputs": [], 
     "prompt_number": 16
    }, 
    {
     "cell_type": "code", 
     "collapsed": false, 
     "input": [
      "# putting it all together", 
      "# no more legend", 
      "fig = plt.gcf()", 
      "fig.subplotpars.bottom=.35", 
      "ax= plt.subplot(1,1,1) #matlab-style initialization", 
      "plt.plot(x,intel, label=\"INTELLIGENCE\")", 
      "plt.plot(x,inan, label=\"INANITY OF STATEMENTS\")", 
      "", 
      "plt.xlabel(\"HUMAN PROXIMITY TO CAT\")", 
      "plt.yticks([])", 
      "plt.xticks([0,.8],['FAR','NEAR'])", 
      "ax = plt.gca()", 
      "ax.spines['top'].set_visible(False)", 
      "ax.spines['right'].set_visible(False)", 
      "", 
      "ax.xaxis.tick_bottom()", 
      "", 
      "plt.annotate(\"\\nINTELLIGENCE\", (x[40],intel[40]), (-10,-40),", 
      "    ha='center', **noarrow_kwargs)", 
      "", 
      "plt.annotate(\"\\nINANITY OF\\nSTATEMENTS\", (x[60],inan[60]), (10,-45),", 
      "    **noarrow_kwargs)", 
      "", 
      "ax2 = fig.add_axes([0.0, 0.0, .3, 0.3])", 
      "ax_im = plt.imshow(im[-100:-20,40:100])", 
      "", 
      "ax3 = fig.add_axes([0.3, .0, .3, 0.3])", 
      "ax_im = plt.imshow(im[-100:-20:,180:240])", 
      "", 
      "ax4 = fig.add_axes([0.6, .0, .45, 0.3])", 
      "ax_im = plt.imshow(im[-100:-20:,320:420])", 
      "", 
      "plt.annotate(\"YOU'RE A KITTY!\", **kitty_kwargs)"
     ], 
     "language": "python", 
     "outputs": [], 
     "prompt_number": 17
    }, 
    {
     "cell_type": "code", 
     "collapsed": false, 
     "input": [
      "# putting it all together", 
      "fig = plt.gcf()", 
      "fig.subplotpars.bottom=.35", 
      "ax= plt.subplot(1,1,1) #matlab-style initialization", 
      "plt.plot(x,intel, label=\"INTELLIGENCE\")", 
      "plt.plot(x,inan, label=\"INANITY OF STATEMENTS\")", 
      "", 
      "plt.xlabel(\"HUMAN PROXIMITY TO CAT\")", 
      "plt.yticks([])", 
      "plt.xticks([0,.8],['FAR','NEAR'])", 
      "ax = plt.gca()", 
      "ax.spines['top'].set_visible(False)", 
      "ax.spines['right'].set_visible(False)", 
      "ax.xaxis.tick_bottom()", 
      "plt.annotate(\"\\nINTELLIGENCE\", (x[40],intel[40]), (-10,-40),", 
      "    ha='center', **noarrow_kwargs)", 
      "plt.annotate(\"\\nINANITY OF\\nSTATEMENTS\", (x[60],inan[60]), (10,-45),", 
      "    **noarrow_kwargs)", 
      "", 
      "ax2 = fig.add_axes([0.0, 0.0, .3, 0.3])", 
      "ax_im = plt.imshow(im[-100:-20,40:100])", 
      "", 
      "ax3 = fig.add_axes([0.3, .0, .3, 0.3])", 
      "ax_im = plt.imshow(im[-100:-20:,180:240])", 
      "", 
      "ax4 = fig.add_axes([0.6, .0, .45, 0.3])", 
      "ax_im = plt.imshow(im[-100:-20:,320:420])", 
      "", 
      "plt.annotate(\"YOU'RE A KITTY!\", **kitty_kwargs)"
     ], 
     "language": "python", 
     "outputs": [], 
     "prompt_number": 18
    }, 
    {
     "cell_type": "code", 
     "collapsed": true, 
     "input": [
      "def cleanup_axes(ax):", 
      "    \"Remove crud around axes - no ticks, no spines\"", 
      "    # Note: we can get this behavior by passing", 
      "    # frame_on=False,yticks=[],xticks=[] at the creation of ax", 
      "    # this is here to demonstrate how you can adjust your plots ", 
      "    # after they've been create", 
      "    ax.set_frame_on(False)", 
      "    ax.set_yticks([])", 
      "    ax.set_xticks([])"
     ], 
     "language": "python", 
     "outputs": [], 
     "prompt_number": 19
    }, 
    {
     "cell_type": "code", 
     "collapsed": false, 
     "input": [
      "# putting it all together", 
      "# no more legend", 
      "fig = plt.figure(figsize=(6,6))", 
      "fig.subplotpars.bottom=.35", 
      "ax= plt.subplot(1,1,1) #matlab-style initialization", 
      "plt.plot(x,intel, label=\"INTELLIGENCE\")", 
      "plt.plot(x,inan, label=\"INANITY OF STATEMENTS\")", 
      "", 
      "plt.xlabel(\"HUMAN PROXIMITY TO CAT\")", 
      "plt.yticks([])", 
      "plt.xticks([0,.8],['FAR','NEAR'])", 
      "ax = plt.gca()", 
      "ax.spines['top'].set_visible(False)", 
      "ax.spines['right'].set_visible(False)", 
      "", 
      "ax.xaxis.tick_bottom()", 
      "", 
      "plt.annotate(\"\\nINTELLIGENCE\", (x[40],intel[40]), (-10,-40),", 
      "    ha='center', **noarrow_kwargs)", 
      "plt.annotate(\"\\nINANITY OF\\nSTATEMENTS\", (x[60],inan[60]), (10,-45),", 
      "    **noarrow_kwargs)", 
      "", 
      "ax2 = fig.add_axes([0.0, 0.0, .3, 0.25])", 
      "ax_im = plt.imshow(im[-100:-20,40:100])", 
      "", 
      "ax3 = fig.add_axes([0.3, .0, .3, 0.25])", 
      "ax_im = plt.imshow(im[-100:-20:,180:240])", 
      "", 
      "ax4 = fig.add_axes([0.6, .0, .45, 0.25])", 
      "ax_im = plt.imshow(im[-100:-20:,320:420])", 
      "", 
      "plt.annotate(\"YOU'RE A KITTY!\", **kitty_kwargs)", 
      "", 
      "[cleanup_axes(ax) for ax in ax2, ax3, ax4]"
     ], 
     "language": "python", 
     "outputs": [], 
     "prompt_number": 20
    }, 
    {
     "cell_type": "code", 
     "collapsed": true, 
     "input": [
      "# One could redo the above images with plt.figimage() - see figimage_demo", 
      "# %loadpy http://matplotlib.sourceforge.net/mpl_examples/pylab_examples/figimage_demo.py", 
      "# but i think IPython clips them out right now. TODO: file this bug"
     ], 
     "language": "python", 
     "outputs": [], 
     "prompt_number": 21
    }, 
    {
     "cell_type": "markdown", 
     "source": [
      "# MISC (time permitting): ", 
      " - mention or demonstrate twinx(), since intelligene and inanity are of different units (done in supplement below)", 
      " - sharex and sharey that can be passed to subplot/subplots", 
      " - if fernando hasn't already, poke around the ax internals", 
      "   - e.g. `ax.get_frame().set_color('red')`", 
      "   - talk about the `rcParams` way of setting these, ", 
      "     including in one's ``~/.matplotlib/matplotlibrc``", 
      " - we showed how to get rid of and set ticks manually, ", 
      "   - we can also do this programmatically via", 
      "   locators and formatters on each axis", 
      "   - e.g. `plot_date` does this for us", 
      " - potential homework, or other example  with a pointer to ", 
      " [broken_axis](http://matplotlib.sourceforge.net/examples/pylab_examples/broken_axis.html) example: ", 
      " ", 
      "![One-sided](http://imgs.xkcd.com/comics/one-sided.png), ", 
      ""
     ]
    }, 
    {
     "cell_type": "code", 
     "collapsed": false, 
     "input": [
      "# A few more, bonus, things...", 
      "# scatter plot and vertical line point of no return (try zooming in/out)", 
      "plt.plot(x,intel)", 
      "plt.plot(x,inan)", 
      "", 
      "plt.xlabel(\"HUMAN PROXIMITY TO CAT\")", 
      "plt.yticks([])", 
      "plt.xticks([0,.8],['FAR','NEAR'])", 
      "ax = plt.gca()", 
      "ax.spines['top'].set_visible(False)", 
      "ax.spines['right'].set_visible(False)", 
      "", 
      "ax.xaxis.tick_bottom()", 
      "", 
      "plt.annotate(\"\\nINTELLIGENCE\", (x[40],intel[40]), (-10,-40),", 
      "    ha='center', **noarrow_kwargs)", 
      "plt.annotate(\"\\nINANITY OF\\nSTATEMENTS\", (x[60],inan[60]), (10,-45),", 
      "    **noarrow_kwargs)", 
      "", 
      "plt.scatter(x[:51:10],intel[:51:10],c='r', marker='*',s=150, label='Smart enough to save yourself')", 
      "plt.axvline(x[50], color='r', linestyle='--', label='point of no return')", 
      "plt.legend(loc='best')"
     ], 
     "language": "python", 
     "outputs": [], 
     "prompt_number": 22
    }, 
    {
     "cell_type": "code", 
     "collapsed": false, 
     "input": [
      "# axvspan is similar to axvline, but fills a rectangle. Both have horizontal analogues:", 
      "# They'r'e called axhspan and axhline.", 
      "plt.plot(x,intel)", 
      "plt.plot(x,inan)", 
      "", 
      "plt.xlabel(\"HUMAN PROXIMITY TO CAT\")", 
      "plt.yticks([])", 
      "plt.xticks([0,.8],['FAR','NEAR'])", 
      "ax = plt.gca()", 
      "ax.spines['top'].set_visible(False)", 
      "ax.spines['right'].set_visible(False)", 
      "", 
      "ax.xaxis.tick_bottom()", 
      "", 
      "plt.annotate(\"\\nINTELLIGENCE\", (x[40],intel[40]), (-10,-40),", 
      "    ha='center', **noarrow_kwargs)", 
      "plt.annotate(\"\\nINANITY OF\\nSTATEMENTS\", (x[60],inan[60]), (10,-45),", 
      "    **noarrow_kwargs)", 
      "", 
      "plt.scatter(x[:51:10],intel[:51:10],c='r', marker='*',s=150, ", 
      "            label='Smart enough to save yourself')", 
      "plt.axvline(x[50], color='r', linestyle='--', ", 
      "            label='point of no return')", 
      "", 
      "plt.axvspan(x[80],x[-1], color='r', ", 
      "            label='Toxoplasmosis danger zone!', alpha=.1)", 
      "plt.legend(loc='best')"
     ], 
     "language": "python", 
     "outputs": [], 
     "prompt_number": 23
    }, 
    {
     "cell_type": "code", 
     "collapsed": false, 
     "input": [
      "# twinx example - share the xaxis among two axes which are overlaid.", 
      "# panning horizontally in one will pan in both axes. There's a twiny() ", 
      "# equivalent for doing the same to the Y axis. See sharex= and sharey=", 
      "# keyword arguments to plt.subplot and subplots", 
      "# IQ should be normalized to 100", 
      "new_intel =  intel / intel.max() * 100", 
      "# inanity is exponentially increasing", 
      "new_inan = np.exp(y)", 
      "ax = plt.gca()", 
      "ax.plot(x,new_intel)", 
      "ax2 = ax.twinx()", 
      "ax2.semilogy(x,new_inan)"
     ], 
     "language": "python", 
     "outputs": [], 
     "prompt_number": 24
    }, 
    {
     "cell_type": "code", 
     "collapsed": false, 
     "input": [
      "# more clearly mark the two x axes", 
      "ax = plt.gca()", 
      "ax.plot(x,new_intel)", 
      "ax2 = ax.twinx()", 
      "ax2.semilogy(x,new_inan, 'r')", 
      "ax.set_ylabel(\"IQ POINTS\")", 
      "# the units of INANITY is Twits: see Monty Python's Twit Race and Twit Olympics", 
      "# http://www.youtube.com/watch?v=rCyr1ugzxXM", 
      "ax2.set_ylabel(\"TWITS\")"
     ], 
     "language": "python", 
     "outputs": [], 
     "prompt_number": 25
    }, 
    {
     "cell_type": "code", 
     "collapsed": true, 
     "input": [
      "# Challenge: poke around to try to set the ylabels ", 
      "# (named and numerical) of ax2 to be red.", 
      "# Hint: start with ax2.get_yt<tab>"
     ], 
     "language": "python", 
     "outputs": [], 
     "prompt_number": 26
    }, 
    {
     "cell_type": "code", 
     "collapsed": true, 
     "input": [], 
     "language": "python", 
     "outputs": [], 
     "prompt_number": 26
    }
   ]
  }
 ]
}